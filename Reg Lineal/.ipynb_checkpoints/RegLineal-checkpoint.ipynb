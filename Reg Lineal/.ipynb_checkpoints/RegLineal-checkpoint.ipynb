{
 "cells": [
  {
   "cell_type": "code",
   "execution_count": 1,
   "id": "46b7c2f3-90c9-4cb8-b8ed-ba3ff19e92bd",
   "metadata": {
    "tags": []
   },
   "outputs": [],
   "source": [
    "# Load necesary Library.\n",
    "\n",
    "# Manipulación y visualización de datos\n",
    "import pandas as pd"
   ]
  },
  {
   "cell_type": "code",
   "execution_count": 2,
   "id": "65c84aaf-554a-49c7-898d-8b41b00554ae",
   "metadata": {
    "tags": []
   },
   "outputs": [],
   "source": [
    "# Generar los graficos\n",
    "import matplotlib.pyplot as plt\n",
    "\n",
    "# Generar graficos con mejor aspecto\n",
    "import seaborn as sns\n",
    "\n",
    "# Libreria de matematicas\n",
    "import numpy as np"
   ]
  },
  {
   "cell_type": "code",
   "execution_count": 3,
   "id": "9968923a-25c4-43d6-81ae-2f17e76dbc38",
   "metadata": {
    "tags": []
   },
   "outputs": [],
   "source": [
    "# libreria para obtener mejores valores\n",
    "from sklearn import linear_model"
   ]
  },
  {
   "cell_type": "code",
   "execution_count": 4,
   "id": "7b44415a-af90-405e-afa7-f4bc36b472ca",
   "metadata": {
    "tags": []
   },
   "outputs": [],
   "source": [
    "DataRegLineal = pd.read_csv(\"C:/Users/ander/Downloads/DatosUNAD/regresionlineal.csv\", sep=\",\")"
   ]
  },
  {
   "cell_type": "code",
   "execution_count": 5,
   "id": "06cd1a72-2dd9-490a-b110-b5f3fc9cd40b",
   "metadata": {
    "tags": []
   },
   "outputs": [
    {
     "data": {
      "text/html": [
       "<div>\n",
       "<style scoped>\n",
       "    .dataframe tbody tr th:only-of-type {\n",
       "        vertical-align: middle;\n",
       "    }\n",
       "\n",
       "    .dataframe tbody tr th {\n",
       "        vertical-align: top;\n",
       "    }\n",
       "\n",
       "    .dataframe thead th {\n",
       "        text-align: right;\n",
       "    }\n",
       "</style>\n",
       "<table border=\"1\" class=\"dataframe\">\n",
       "  <thead>\n",
       "    <tr style=\"text-align: right;\">\n",
       "      <th></th>\n",
       "      <th>metro</th>\n",
       "      <th>precio</th>\n",
       "    </tr>\n",
       "  </thead>\n",
       "  <tbody>\n",
       "    <tr>\n",
       "      <th>0</th>\n",
       "      <td>5</td>\n",
       "      <td>375</td>\n",
       "    </tr>\n",
       "    <tr>\n",
       "      <th>1</th>\n",
       "      <td>15</td>\n",
       "      <td>487</td>\n",
       "    </tr>\n",
       "    <tr>\n",
       "      <th>2</th>\n",
       "      <td>20</td>\n",
       "      <td>450</td>\n",
       "    </tr>\n",
       "    <tr>\n",
       "      <th>3</th>\n",
       "      <td>25</td>\n",
       "      <td>500</td>\n",
       "    </tr>\n",
       "  </tbody>\n",
       "</table>\n",
       "</div>"
      ],
      "text/plain": [
       "   metro  precio\n",
       "0      5     375\n",
       "1     15     487\n",
       "2     20     450\n",
       "3     25     500"
      ]
     },
     "execution_count": 5,
     "metadata": {},
     "output_type": "execute_result"
    }
   ],
   "source": [
    "DataRegLineal"
   ]
  },
  {
   "cell_type": "code",
   "execution_count": 6,
   "id": "d1c272c5-aa99-4b45-b111-d48daaee2c42",
   "metadata": {
    "tags": []
   },
   "outputs": [],
   "source": [
    "# Regresión lineal\n",
    "Regresion = linear_model.LinearRegression()\n",
    "\n",
    "#Cargo el arreglo\n",
    "Precio = DataRegLineal[\"precio\"].values.reshape((-1,1))"
   ]
  },
  {
   "cell_type": "code",
   "execution_count": 7,
   "id": "35bd787e-a890-46a8-b848-b0b7067773ac",
   "metadata": {
    "tags": []
   },
   "outputs": [
    {
     "name": "stdout",
     "output_type": "stream",
     "text": [
      "Intersección (b) -42.901511947557616\n",
      "Pendiente (m) [0.13057729]\n"
     ]
    }
   ],
   "source": [
    "#Creación del modelo\n",
    "Modelo = Regresion.fit(Precio, DataRegLineal[\"metro\"])\n",
    "print(\"Intersección (b)\", Modelo.intercept_)\n",
    "\n",
    "#Print pendiente\n",
    "print(\"Pendiente (m)\", Modelo.coef_)"
   ]
  },
  {
   "cell_type": "code",
   "execution_count": 8,
   "id": "dd50061f-6d0a-4ec7-bc8f-186d1dd9deee",
   "metadata": {
    "tags": []
   },
   "outputs": [
    {
     "name": "stdout",
     "output_type": "stream",
     "text": [
      "[-3.72832523  9.32940368 22.38713259 35.44486149]\n"
     ]
    }
   ],
   "source": [
    "Entrada = [[300],[400],[500],[600]]\n",
    "Prediccion = Modelo.predict(Entrada)\n",
    "print(Prediccion)"
   ]
  },
  {
   "cell_type": "code",
   "execution_count": 9,
   "id": "fec11139-726f-49b2-b450-531848c5754e",
   "metadata": {
    "tags": []
   },
   "outputs": [
    {
     "data": {
      "image/png": "[encoded data removed]",
      "text/plain": [
       "<Figure size 640x480 with 1 Axes>"
      ]
     },
     "metadata": {},
     "output_type": "display_data"
    }
   ],
   "source": [
    "#Grafico la información\n",
    "DataRegLineal.plot.scatter(x=\"precio\", y=\"metro\", label=\"Datos\")\n",
    "plt.scatter(Entrada, Prediccion, color='red')\n",
    "plt.plot(Entrada, Prediccion, color='black', label='Linea de regresión')\n",
    "plt.xlabel('precio')\n",
    "plt.ylabel('metro')\n",
    "plt.legend()\n",
    "plt.show()"
   ]
  },
  {
   "cell_type": "code",
   "execution_count": null,
   "id": "9da92bc6-4427-4e97-8e3d-ef782d0dac53",
   "metadata": {},
   "outputs": [],
   "source": []
  }
 ],
 "metadata": {
  "kernelspec": {
   "display_name": "Python 3 (ipykernel)",
   "language": "python",
   "name": "python3"
  },
  "language_info": {
   "codemirror_mode": {
    "name": "ipython",
    "version": 3
   },
   "file_extension": ".py",
   "mimetype": "text/x-python",
   "name": "python",
   "nbconvert_exporter": "python",
   "pygments_lexer": "ipython3",
   "version": "3.11.3"
  }
 },
 "nbformat": 4,
 "nbformat_minor": 5
}
